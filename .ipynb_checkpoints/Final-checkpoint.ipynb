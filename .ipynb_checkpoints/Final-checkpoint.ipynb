# house_price_prediction
My project  is not fulfilled
